{
 "cells": [
  {
   "cell_type": "markdown",
   "metadata": {},
   "source": [
    "# VacationPy\n",
    "----\n",
    "\n",
    "#### Note\n",
    "* Keep an eye on your API usage. Use https://developers.google.com/maps/reporting/gmp-reporting as reference for how to monitor your usage and billing.\n",
    "\n",
    "* Instructions have been included for each segment. You do not have to follow them exactly, but they are included to help you think through the steps."
   ]
  },
  {
   "cell_type": "code",
   "execution_count": 1,
   "metadata": {},
   "outputs": [],
   "source": [
    "# Dependencies and Setup\n",
    "import matplotlib.pyplot as plt\n",
    "import pandas as pd\n",
    "import numpy as np\n",
    "import requests\n",
    "import gmaps\n",
    "import os\n",
    "\n",
    "# Import API key\n",
    "from api_keys import gmaps_api_key"
   ]
  },
  {
   "cell_type": "code",
   "execution_count": 2,
   "metadata": {},
   "outputs": [],
   "source": [
    "#aliasing key \n",
    "g_key = gmaps_api_key"
   ]
  },
  {
   "cell_type": "code",
   "execution_count": 3,
   "metadata": {},
   "outputs": [],
   "source": [
    "#configuration\n",
    "infile = '../WeatherPy/output/cities.csv'\n",
    "# outfile = ''"
   ]
  },
  {
   "cell_type": "markdown",
   "metadata": {},
   "source": [
    "### Store Part I results into DataFrame\n",
    "* Load the csv exported in Part I to a DataFrame"
   ]
  },
  {
   "cell_type": "code",
   "execution_count": 4,
   "metadata": {
    "scrolled": true
   },
   "outputs": [
    {
     "data": {
      "text/html": [
       "<div>\n",
       "<style scoped>\n",
       "    .dataframe tbody tr th:only-of-type {\n",
       "        vertical-align: middle;\n",
       "    }\n",
       "\n",
       "    .dataframe tbody tr th {\n",
       "        vertical-align: top;\n",
       "    }\n",
       "\n",
       "    .dataframe thead th {\n",
       "        text-align: right;\n",
       "    }\n",
       "</style>\n",
       "<table border=\"1\" class=\"dataframe\">\n",
       "  <thead>\n",
       "    <tr style=\"text-align: right;\">\n",
       "      <th></th>\n",
       "      <th>city_id</th>\n",
       "      <th>city_name</th>\n",
       "      <th>cloudiness_pct</th>\n",
       "      <th>country_cd</th>\n",
       "      <th>date</th>\n",
       "      <th>humidity</th>\n",
       "      <th>city_lat</th>\n",
       "      <th>city_lng</th>\n",
       "      <th>max_temp</th>\n",
       "      <th>wind_speed</th>\n",
       "      <th>date_time</th>\n",
       "    </tr>\n",
       "  </thead>\n",
       "  <tbody>\n",
       "    <tr>\n",
       "      <th>0</th>\n",
       "      <td>2194098</td>\n",
       "      <td>Ahipara</td>\n",
       "      <td>61</td>\n",
       "      <td>NZ</td>\n",
       "      <td>1621361484</td>\n",
       "      <td>77</td>\n",
       "      <td>-35.1667</td>\n",
       "      <td>173.1667</td>\n",
       "      <td>59.14</td>\n",
       "      <td>11.16</td>\n",
       "      <td>2021-05-18 18:11:24</td>\n",
       "    </tr>\n",
       "    <tr>\n",
       "      <th>1</th>\n",
       "      <td>2027296</td>\n",
       "      <td>Aykhal</td>\n",
       "      <td>100</td>\n",
       "      <td>RU</td>\n",
       "      <td>1621361484</td>\n",
       "      <td>97</td>\n",
       "      <td>66.0000</td>\n",
       "      <td>111.5000</td>\n",
       "      <td>25.03</td>\n",
       "      <td>7.65</td>\n",
       "      <td>2021-05-18 18:11:24</td>\n",
       "    </tr>\n",
       "    <tr>\n",
       "      <th>2</th>\n",
       "      <td>5312476</td>\n",
       "      <td>Safford</td>\n",
       "      <td>1</td>\n",
       "      <td>US</td>\n",
       "      <td>1621361484</td>\n",
       "      <td>17</td>\n",
       "      <td>32.8340</td>\n",
       "      <td>-109.7076</td>\n",
       "      <td>83.32</td>\n",
       "      <td>18.41</td>\n",
       "      <td>2021-05-18 18:11:24</td>\n",
       "    </tr>\n",
       "    <tr>\n",
       "      <th>3</th>\n",
       "      <td>2263905</td>\n",
       "      <td>Ribeira Brava</td>\n",
       "      <td>1</td>\n",
       "      <td>PT</td>\n",
       "      <td>1621361485</td>\n",
       "      <td>60</td>\n",
       "      <td>32.6500</td>\n",
       "      <td>-17.0667</td>\n",
       "      <td>75.70</td>\n",
       "      <td>3.98</td>\n",
       "      <td>2021-05-18 18:11:25</td>\n",
       "    </tr>\n",
       "    <tr>\n",
       "      <th>4</th>\n",
       "      <td>2155415</td>\n",
       "      <td>New Norfolk</td>\n",
       "      <td>86</td>\n",
       "      <td>AU</td>\n",
       "      <td>1621361485</td>\n",
       "      <td>76</td>\n",
       "      <td>-42.7826</td>\n",
       "      <td>147.0587</td>\n",
       "      <td>51.91</td>\n",
       "      <td>1.99</td>\n",
       "      <td>2021-05-18 18:11:25</td>\n",
       "    </tr>\n",
       "  </tbody>\n",
       "</table>\n",
       "</div>"
      ],
      "text/plain": [
       "   city_id      city_name  cloudiness_pct country_cd        date  humidity  \\\n",
       "0  2194098        Ahipara              61         NZ  1621361484        77   \n",
       "1  2027296         Aykhal             100         RU  1621361484        97   \n",
       "2  5312476        Safford               1         US  1621361484        17   \n",
       "3  2263905  Ribeira Brava               1         PT  1621361485        60   \n",
       "4  2155415    New Norfolk              86         AU  1621361485        76   \n",
       "\n",
       "   city_lat  city_lng  max_temp  wind_speed            date_time  \n",
       "0  -35.1667  173.1667     59.14       11.16  2021-05-18 18:11:24  \n",
       "1   66.0000  111.5000     25.03        7.65  2021-05-18 18:11:24  \n",
       "2   32.8340 -109.7076     83.32       18.41  2021-05-18 18:11:24  \n",
       "3   32.6500  -17.0667     75.70        3.98  2021-05-18 18:11:25  \n",
       "4  -42.7826  147.0587     51.91        1.99  2021-05-18 18:11:25  "
      ]
     },
     "execution_count": 4,
     "metadata": {},
     "output_type": "execute_result"
    }
   ],
   "source": [
    "df=pd.read_csv(infile, index_col=0)\n",
    "df.head()"
   ]
  },
  {
   "cell_type": "code",
   "execution_count": 18,
   "metadata": {},
   "outputs": [
    {
     "data": {
      "text/plain": [
       "591"
      ]
     },
     "execution_count": 18,
     "metadata": {},
     "output_type": "execute_result"
    }
   ],
   "source": []
  },
  {
   "cell_type": "markdown",
   "metadata": {},
   "source": [
    "### Humidity Heatmap\n",
    "* Configure gmaps.\n",
    "* Use the Lat and Lng as locations and Humidity as the weight.\n",
    "* Add Heatmap layer to map."
   ]
  },
  {
   "cell_type": "code",
   "execution_count": 5,
   "metadata": {},
   "outputs": [],
   "source": [
    "#configure gmaps\n",
    "gmaps.configure(api_key=g_key)"
   ]
  },
  {
   "cell_type": "code",
   "execution_count": 93,
   "metadata": {},
   "outputs": [],
   "source": [
    "#set locations and weight series. First remove nulls\n",
    "df = df.dropna() #defaults to drop entire rows if any NaN is encountered, which is the behavior desired.\n",
    "\n",
    "city_locations = df[['city_lat', 'city_lng']]\n",
    "humidity  = df['humidity']"
   ]
  },
  {
   "cell_type": "code",
   "execution_count": 94,
   "metadata": {},
   "outputs": [
    {
     "data": {
      "application/vnd.jupyter.widget-view+json": {
       "model_id": "59dc5b759440402bbf339d9187b00f3c",
       "version_major": 2,
       "version_minor": 0
      },
      "text/plain": [
       "Figure(layout=FigureLayout(height='420px'))"
      ]
     },
     "metadata": {},
     "output_type": "display_data"
    }
   ],
   "source": [
    "#Set up map and heat layer\n",
    "fig = gmaps.figure()\n",
    "\n",
    "heat_layer = gmaps.heatmap_layer(city_locations, weights=humidity, \n",
    "                                 dissipating=False, max_intensity=100,\n",
    "                                 point_radius = 3)\n",
    "\n",
    "fig.add_layer(heat_layer)\n",
    "\n",
    "fig"
   ]
  },
  {
   "cell_type": "code",
   "execution_count": null,
   "metadata": {},
   "outputs": [],
   "source": []
  },
  {
   "cell_type": "code",
   "execution_count": null,
   "metadata": {},
   "outputs": [],
   "source": []
  },
  {
   "cell_type": "code",
   "execution_count": null,
   "metadata": {},
   "outputs": [],
   "source": []
  },
  {
   "cell_type": "markdown",
   "metadata": {},
   "source": [
    "### Create new DataFrame fitting weather criteria\n",
    "* Narrow down the cities to fit weather conditions.\n",
    "* Drop any rows will null values."
   ]
  },
  {
   "cell_type": "code",
   "execution_count": 26,
   "metadata": {},
   "outputs": [
    {
     "data": {
      "text/plain": [
       "6"
      ]
     },
     "execution_count": 26,
     "metadata": {},
     "output_type": "execute_result"
    }
   ],
   "source": [
    "# criteria: conjuct of: max temp on the open interval (70,80), wind speed <10MPH, zero cloudiness\n",
    "\n",
    "\n",
    "\n",
    "df_comfy = df[(df['max_temp']>70) & (df['max_temp'] <80)&(df['wind_speed']<10)&(df['cloudiness_pct']==0)]\n",
    "len(df_comfy)"
   ]
  },
  {
   "cell_type": "markdown",
   "metadata": {},
   "source": [
    "### Hotel Map\n",
    "* Store into variable named `hotel_df`.\n",
    "* Add a \"Hotel Name\" column to the DataFrame.\n",
    "* Set parameters to search for hotels with 5000 meters.\n",
    "* Hit the Google Places API for each city's coordinates.\n",
    "* Store the first Hotel result into the DataFrame.\n",
    "* Plot markers on top of the heatmap."
   ]
  },
  {
   "cell_type": "code",
   "execution_count": 43,
   "metadata": {},
   "outputs": [],
   "source": [
    "cols_in_hotel_df = ['city_name', 'country_cd', 'city_lat', 'city_lng', 'hotel_nm']\n",
    "\n",
    "hotel_df = df_comfy[cols_in_hotel_df]\n",
    "#hotel_df['hotel_nm'] = np.nan"
   ]
  },
  {
   "cell_type": "code",
   "execution_count": 44,
   "metadata": {},
   "outputs": [
    {
     "data": {
      "text/html": [
       "<div>\n",
       "<style scoped>\n",
       "    .dataframe tbody tr th:only-of-type {\n",
       "        vertical-align: middle;\n",
       "    }\n",
       "\n",
       "    .dataframe tbody tr th {\n",
       "        vertical-align: top;\n",
       "    }\n",
       "\n",
       "    .dataframe thead th {\n",
       "        text-align: right;\n",
       "    }\n",
       "</style>\n",
       "<table border=\"1\" class=\"dataframe\">\n",
       "  <thead>\n",
       "    <tr style=\"text-align: right;\">\n",
       "      <th></th>\n",
       "      <th>city_nm</th>\n",
       "      <th>country_cd</th>\n",
       "      <th>city_lat</th>\n",
       "      <th>city_lng</th>\n",
       "      <th>hotel_nm</th>\n",
       "    </tr>\n",
       "  </thead>\n",
       "  <tbody>\n",
       "    <tr>\n",
       "      <th>126</th>\n",
       "      <td>Goderich</td>\n",
       "      <td>CA</td>\n",
       "      <td>43.7501</td>\n",
       "      <td>-81.7165</td>\n",
       "      <td>NaN</td>\n",
       "    </tr>\n",
       "    <tr>\n",
       "      <th>218</th>\n",
       "      <td>Saint-Pierre</td>\n",
       "      <td>RE</td>\n",
       "      <td>-21.3393</td>\n",
       "      <td>55.4781</td>\n",
       "      <td>NaN</td>\n",
       "    </tr>\n",
       "    <tr>\n",
       "      <th>300</th>\n",
       "      <td>Vila Velha</td>\n",
       "      <td>BR</td>\n",
       "      <td>-20.3297</td>\n",
       "      <td>-40.2925</td>\n",
       "      <td>NaN</td>\n",
       "    </tr>\n",
       "    <tr>\n",
       "      <th>309</th>\n",
       "      <td>Cap Malheureux</td>\n",
       "      <td>MU</td>\n",
       "      <td>-19.9842</td>\n",
       "      <td>57.6142</td>\n",
       "      <td>NaN</td>\n",
       "    </tr>\n",
       "    <tr>\n",
       "      <th>381</th>\n",
       "      <td>Murgab</td>\n",
       "      <td>TM</td>\n",
       "      <td>37.4966</td>\n",
       "      <td>61.9714</td>\n",
       "      <td>NaN</td>\n",
       "    </tr>\n",
       "  </tbody>\n",
       "</table>\n",
       "</div>"
      ],
      "text/plain": [
       "            city_nm country_cd  city_lat  city_lng  hotel_nm\n",
       "126        Goderich         CA   43.7501  -81.7165       NaN\n",
       "218    Saint-Pierre         RE  -21.3393   55.4781       NaN\n",
       "300      Vila Velha         BR  -20.3297  -40.2925       NaN\n",
       "309  Cap Malheureux         MU  -19.9842   57.6142       NaN\n",
       "381          Murgab         TM   37.4966   61.9714       NaN"
      ]
     },
     "execution_count": 44,
     "metadata": {},
     "output_type": "execute_result"
    }
   ],
   "source": [
    "# renaming column to have consistent naming convention (name is always abbreviated as 'nm')\n",
    "# saves time by making it easier to remember column names to reference later\n",
    "hotel_df = hotel_df.rename({'city_name':'city_nm'}, axis = 'columns')  #using inplace=True generated a warning, so using equation instead \n",
    "hotel_df.head()"
   ]
  },
  {
   "cell_type": "code",
   "execution_count": 46,
   "metadata": {
    "scrolled": true
   },
   "outputs": [
    {
     "data": {
      "text/html": [
       "<div>\n",
       "<style scoped>\n",
       "    .dataframe tbody tr th:only-of-type {\n",
       "        vertical-align: middle;\n",
       "    }\n",
       "\n",
       "    .dataframe tbody tr th {\n",
       "        vertical-align: top;\n",
       "    }\n",
       "\n",
       "    .dataframe thead th {\n",
       "        text-align: right;\n",
       "    }\n",
       "</style>\n",
       "<table border=\"1\" class=\"dataframe\">\n",
       "  <thead>\n",
       "    <tr style=\"text-align: right;\">\n",
       "      <th></th>\n",
       "      <th>city_nm</th>\n",
       "      <th>country_cd</th>\n",
       "      <th>city_lat</th>\n",
       "      <th>city_lng</th>\n",
       "      <th>hotel_nm</th>\n",
       "    </tr>\n",
       "  </thead>\n",
       "  <tbody>\n",
       "    <tr>\n",
       "      <th>0</th>\n",
       "      <td>Goderich</td>\n",
       "      <td>CA</td>\n",
       "      <td>43.7501</td>\n",
       "      <td>-81.7165</td>\n",
       "      <td>NaN</td>\n",
       "    </tr>\n",
       "    <tr>\n",
       "      <th>1</th>\n",
       "      <td>Saint-Pierre</td>\n",
       "      <td>RE</td>\n",
       "      <td>-21.3393</td>\n",
       "      <td>55.4781</td>\n",
       "      <td>NaN</td>\n",
       "    </tr>\n",
       "    <tr>\n",
       "      <th>2</th>\n",
       "      <td>Vila Velha</td>\n",
       "      <td>BR</td>\n",
       "      <td>-20.3297</td>\n",
       "      <td>-40.2925</td>\n",
       "      <td>NaN</td>\n",
       "    </tr>\n",
       "    <tr>\n",
       "      <th>3</th>\n",
       "      <td>Cap Malheureux</td>\n",
       "      <td>MU</td>\n",
       "      <td>-19.9842</td>\n",
       "      <td>57.6142</td>\n",
       "      <td>NaN</td>\n",
       "    </tr>\n",
       "    <tr>\n",
       "      <th>4</th>\n",
       "      <td>Murgab</td>\n",
       "      <td>TM</td>\n",
       "      <td>37.4966</td>\n",
       "      <td>61.9714</td>\n",
       "      <td>NaN</td>\n",
       "    </tr>\n",
       "    <tr>\n",
       "      <th>5</th>\n",
       "      <td>Kiryat Gat</td>\n",
       "      <td>IL</td>\n",
       "      <td>31.6100</td>\n",
       "      <td>34.7642</td>\n",
       "      <td>NaN</td>\n",
       "    </tr>\n",
       "  </tbody>\n",
       "</table>\n",
       "</div>"
      ],
      "text/plain": [
       "          city_nm country_cd  city_lat  city_lng  hotel_nm\n",
       "0        Goderich         CA   43.7501  -81.7165       NaN\n",
       "1    Saint-Pierre         RE  -21.3393   55.4781       NaN\n",
       "2      Vila Velha         BR  -20.3297  -40.2925       NaN\n",
       "3  Cap Malheureux         MU  -19.9842   57.6142       NaN\n",
       "4          Murgab         TM   37.4966   61.9714       NaN\n",
       "5      Kiryat Gat         IL   31.6100   34.7642       NaN"
      ]
     },
     "execution_count": 46,
     "metadata": {},
     "output_type": "execute_result"
    }
   ],
   "source": [
    "hotel_df = hotel_df.reset_index(drop=True)  #resetting index because I have a feeling this will be needed later.\n",
    "hotel_df   # only have six rows so displaying the whole thing"
   ]
  },
  {
   "cell_type": "code",
   "execution_count": 56,
   "metadata": {},
   "outputs": [],
   "source": [
    "\n",
    "#constant params for this exercise\n",
    "target_search = \"Hotel\"  \n",
    "target_radius = 5000     \n",
    "target_type = 'establishment'"
   ]
  },
  {
   "cell_type": "code",
   "execution_count": 57,
   "metadata": {},
   "outputs": [],
   "source": [
    "#form list of dictionaries holding the parameters for each search\n",
    "    #loop through coordinates to get list of strings\n",
    "city_coords = []\n",
    "for i in range(len(hotel_df)):\n",
    "    target_coordinates =  \", \".join((str(hotel_df.city_lat[i]), str(hotel_df.city_lng[i])))  #this is probably not the most elegant approach, however I tend to make mistakes with string concatenation, so trying something new\n",
    "    city_coords.append(target_coordinates)\n",
    "    \n",
    "    #set up master list\n",
    "params_list = []    \n",
    "    \n",
    "for i in range(len(hotel_df)):\n",
    "    target_coordinates = city_coords[i]\n",
    "    #leverage constants\n",
    "    one_dict = {\n",
    "    \"location\": target_coordinates,\n",
    "    \"keyword\": target_search,\n",
    "    \"radius\": target_radius,\n",
    "    \"type\": target_type,\n",
    "    \"key\": g_key\n",
    "    }\n",
    "    params_list.append(one_dict)\n",
    "    "
   ]
  },
  {
   "cell_type": "code",
   "execution_count": 85,
   "metadata": {},
   "outputs": [
    {
     "name": "stdout",
     "output_type": "stream",
     "text": [
      "['Samuels Hotel', 'Villa Delisle, Hotel & Spa', 'Hotel Senac Ilha do Boi', 'Ventura Hotel', 'none found within range', 'Desert Gat']\n"
     ]
    }
   ],
   "source": [
    "#output list initialize\n",
    "found_hotels = []\n",
    "\n",
    "# base url\n",
    "base_url = \"https://maps.googleapis.com/maps/api/place/nearbysearch/json\"\n",
    "\n",
    "# run a request using the iteration over params list of dictionaries\n",
    "for i in range(len(params_list)):\n",
    "    response = requests.get(base_url, params=params_list[i])\n",
    "    places_data = response.json()\n",
    "    if places_data['status'] != 'OK':\n",
    "        found_hotels.append(\"none found within range\")\n",
    "    else:\n",
    "        found_hotels.append(places_data[\"results\"][0][\"name\"])\n",
    "\n",
    "    \n",
    "#checking the output\n",
    "print(found_hotels)"
   ]
  },
  {
   "cell_type": "code",
   "execution_count": 86,
   "metadata": {},
   "outputs": [],
   "source": [
    "hotel_df['hotel_nm'] = found_hotels"
   ]
  },
  {
   "cell_type": "code",
   "execution_count": 87,
   "metadata": {},
   "outputs": [
    {
     "data": {
      "text/html": [
       "<div>\n",
       "<style scoped>\n",
       "    .dataframe tbody tr th:only-of-type {\n",
       "        vertical-align: middle;\n",
       "    }\n",
       "\n",
       "    .dataframe tbody tr th {\n",
       "        vertical-align: top;\n",
       "    }\n",
       "\n",
       "    .dataframe thead th {\n",
       "        text-align: right;\n",
       "    }\n",
       "</style>\n",
       "<table border=\"1\" class=\"dataframe\">\n",
       "  <thead>\n",
       "    <tr style=\"text-align: right;\">\n",
       "      <th></th>\n",
       "      <th>city_nm</th>\n",
       "      <th>country_cd</th>\n",
       "      <th>city_lat</th>\n",
       "      <th>city_lng</th>\n",
       "      <th>hotel_nm</th>\n",
       "    </tr>\n",
       "  </thead>\n",
       "  <tbody>\n",
       "    <tr>\n",
       "      <th>0</th>\n",
       "      <td>Goderich</td>\n",
       "      <td>CA</td>\n",
       "      <td>43.7501</td>\n",
       "      <td>-81.7165</td>\n",
       "      <td>Samuels Hotel</td>\n",
       "    </tr>\n",
       "    <tr>\n",
       "      <th>1</th>\n",
       "      <td>Saint-Pierre</td>\n",
       "      <td>RE</td>\n",
       "      <td>-21.3393</td>\n",
       "      <td>55.4781</td>\n",
       "      <td>Villa Delisle, Hotel &amp; Spa</td>\n",
       "    </tr>\n",
       "    <tr>\n",
       "      <th>2</th>\n",
       "      <td>Vila Velha</td>\n",
       "      <td>BR</td>\n",
       "      <td>-20.3297</td>\n",
       "      <td>-40.2925</td>\n",
       "      <td>Hotel Senac Ilha do Boi</td>\n",
       "    </tr>\n",
       "    <tr>\n",
       "      <th>3</th>\n",
       "      <td>Cap Malheureux</td>\n",
       "      <td>MU</td>\n",
       "      <td>-19.9842</td>\n",
       "      <td>57.6142</td>\n",
       "      <td>Ventura Hotel</td>\n",
       "    </tr>\n",
       "    <tr>\n",
       "      <th>4</th>\n",
       "      <td>Murgab</td>\n",
       "      <td>TM</td>\n",
       "      <td>37.4966</td>\n",
       "      <td>61.9714</td>\n",
       "      <td>none found within range</td>\n",
       "    </tr>\n",
       "    <tr>\n",
       "      <th>5</th>\n",
       "      <td>Kiryat Gat</td>\n",
       "      <td>IL</td>\n",
       "      <td>31.6100</td>\n",
       "      <td>34.7642</td>\n",
       "      <td>Desert Gat</td>\n",
       "    </tr>\n",
       "  </tbody>\n",
       "</table>\n",
       "</div>"
      ],
      "text/plain": [
       "          city_nm country_cd  city_lat  city_lng                    hotel_nm\n",
       "0        Goderich         CA   43.7501  -81.7165               Samuels Hotel\n",
       "1    Saint-Pierre         RE  -21.3393   55.4781  Villa Delisle, Hotel & Spa\n",
       "2      Vila Velha         BR  -20.3297  -40.2925     Hotel Senac Ilha do Boi\n",
       "3  Cap Malheureux         MU  -19.9842   57.6142               Ventura Hotel\n",
       "4          Murgab         TM   37.4966   61.9714     none found within range\n",
       "5      Kiryat Gat         IL   31.6100   34.7642                  Desert Gat"
      ]
     },
     "execution_count": 87,
     "metadata": {},
     "output_type": "execute_result"
    }
   ],
   "source": [
    "hotel_df"
   ]
  },
  {
   "cell_type": "code",
   "execution_count": 89,
   "metadata": {},
   "outputs": [],
   "source": [
    "# NOTE: Do not change any of the code in this cell\n",
    "\n",
    "# Using the template add the hotel marks to the heatmap\n",
    "info_box_template = \"\"\"\n",
    "<dl>\n",
    "<dt>Name</dt><dd>{hotel_nm}</dd>\n",
    "<dt>City</dt><dd>{city_nm}</dd>\n",
    "<dt>Country</dt><dd>{country_cd}</dd>\n",
    "</dl>\n",
    "\"\"\"\n",
    "# Store the DataFrame Row\n",
    "# NOTE: be sure to update with your DataFrame name\n",
    "hotel_info = [info_box_template.format(**row) for index, row in hotel_df.iterrows()]\n",
    "locations = hotel_df[[\"city_lat\", \"city_lng\"]]"
   ]
  },
  {
   "cell_type": "code",
   "execution_count": 95,
   "metadata": {},
   "outputs": [
    {
     "data": {
      "application/vnd.jupyter.widget-view+json": {
       "model_id": "5f6783e64e274aa9a62e1f9f05e936bd",
       "version_major": 2,
       "version_minor": 0
      },
      "text/plain": [
       "Figure(layout=FigureLayout(height='420px'))"
      ]
     },
     "metadata": {},
     "output_type": "display_data"
    }
   ],
   "source": [
    "##create figure\n",
    "\n",
    "fig = gmaps.figure()\n",
    "\n",
    "\n",
    "# heat layer\n",
    "heat_layer = gmaps.heatmap_layer(city_locations, weights=humidity, \n",
    "                                 dissipating=False, max_intensity=100,\n",
    "                                 point_radius = 3)\n",
    "\n",
    "fig.add_layer(heat_layer)\n",
    "\n",
    "\n",
    "\n",
    "# Add marker layer ontop of heat map\n",
    "marker_layer = gmaps.marker_layer(locations, info_box_content=hotel_info)\n",
    "fig.add_layer(marker_layer)\n",
    "\n",
    "\n",
    "# Display figure\n",
    "fig"
   ]
  },
  {
   "cell_type": "code",
   "execution_count": null,
   "metadata": {},
   "outputs": [],
   "source": []
  }
 ],
 "metadata": {
  "kernelspec": {
   "display_name": "Python 3",
   "language": "python",
   "name": "python3"
  },
  "language_info": {
   "codemirror_mode": {
    "name": "ipython",
    "version": 3
   },
   "file_extension": ".py",
   "mimetype": "text/x-python",
   "name": "python",
   "nbconvert_exporter": "python",
   "pygments_lexer": "ipython3",
   "version": "3.8.5"
  },
  "latex_envs": {
   "LaTeX_envs_menu_present": true,
   "autoclose": false,
   "autocomplete": true,
   "bibliofile": "biblio.bib",
   "cite_by": "apalike",
   "current_citInitial": 1,
   "eqLabelWithNumbers": true,
   "eqNumInitial": 1,
   "hotkeys": {
    "equation": "Ctrl-E",
    "itemize": "Ctrl-I"
   },
   "labels_anchors": false,
   "latex_user_defs": false,
   "report_style_numbering": false,
   "user_envs_cfg": false
  }
 },
 "nbformat": 4,
 "nbformat_minor": 4
}
